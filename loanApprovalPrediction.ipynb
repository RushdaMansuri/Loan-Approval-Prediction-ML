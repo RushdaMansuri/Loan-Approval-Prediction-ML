{
 "cells": [
  {
   "cell_type": "markdown",
   "id": "2f8a4b45",
   "metadata": {},
   "source": [
    "# Loan Approval Prediction Using Python"
   ]
  },
  {
   "cell_type": "code",
   "execution_count": null,
   "id": "56ff8721",
   "metadata": {},
   "outputs": [
    {
     "ename": "",
     "evalue": "",
     "output_type": "error",
     "traceback": [
      "\u001b[1;31mRunning cells with 'Python 3.12.7' requires the ipykernel package.\n",
      "\u001b[1;31mRun the following command to install 'ipykernel' into the Python environment. \n",
      "\u001b[1;31mCommand: '/opt/homebrew/bin/python3.12 -m pip install ipykernel -U --user --force-reinstall'"
     ]
    }
   ],
   "source": [
    "\n",
    "# Step 1: Import required libraries\n",
    "import pandas as pd\n",
    "import numpy as np\n",
    "from sklearn.model_selection import train_test_split\n",
    "from sklearn.preprocessing import StandardScaler\n",
    "from sklearn.svm import SVC\n"
   ]
  },
  {
   "cell_type": "code",
   "execution_count": null,
   "id": "dd051719",
   "metadata": {},
   "outputs": [],
   "source": [
    "\n",
    "# Step 2: Load the dataset\n",
    "df = pd.read_csv('loan_prediction.csv')\n",
    "\n",
    "# Inspect the first few rows\n",
    "df.head()\n"
   ]
  },
  {
   "cell_type": "code",
   "execution_count": null,
   "id": "7139329d",
   "metadata": {},
   "outputs": [],
   "source": [
    "\n",
    "# Step 3: Drop the Loan_ID column\n",
    "df = df.drop('Loan_ID', axis=1)\n",
    "\n",
    "# Confirm the column has been dropped\n",
    "df.head()\n"
   ]
  },
  {
   "cell_type": "code",
   "execution_count": null,
   "id": "0207de88",
   "metadata": {},
   "outputs": [],
   "source": [
    "\n",
    "# Step 4: Fill missing values\n",
    "\n",
    "# Fill missing values in categorical columns with mode\n",
    "df['Gender'].fillna(df['Gender'].mode()[0], inplace=True)\n",
    "df['Married'].fillna(df['Married'].mode()[0], inplace=True)\n",
    "df['Dependents'].fillna(df['Dependents'].mode()[0], inplace=True)\n",
    "df['Self_Employed'].fillna(df['Self_Employed'].mode()[0], inplace=True)\n",
    "\n",
    "# Fill missing values in numerical columns\n",
    "df['LoanAmount'].fillna(df['LoanAmount'].median(), inplace=True)\n",
    "df['Loan_Amount_Term'].fillna(df['Loan_Amount_Term'].mode()[0], inplace=True)\n",
    "df['Credit_History'].fillna(df['Credit_History'].mode()[0], inplace=True)\n",
    "\n",
    "# Confirm that no missing values remain\n",
    "df.isnull().sum()\n"
   ]
  },
  {
   "cell_type": "code",
   "execution_count": null,
   "id": "91952a33",
   "metadata": {},
   "outputs": [],
   "source": [
    "\n",
    "# Step 5: Remove outliers in ApplicantIncome and CoapplicantIncome columns\n",
    "\n",
    "for col in ['ApplicantIncome', 'CoapplicantIncome']:\n",
    "    Q1 = df[col].quantile(0.25)\n",
    "    Q3 = df[col].quantile(0.75)\n",
    "    IQR = Q3 - Q1\n",
    "    lower_bound = Q1 - 1.5 * IQR\n",
    "    upper_bound = Q3 + 1.5 * IQR\n",
    "    df = df[(df[col] >= lower_bound) & (df[col] <= upper_bound)]\n",
    "\n",
    "# Confirm the shape of the dataset after outlier removal\n",
    "df.shape\n"
   ]
  },
  {
   "cell_type": "code",
   "execution_count": null,
   "id": "efae1d6a",
   "metadata": {},
   "outputs": [],
   "source": [
    "\n",
    "# Step 6: Convert categorical columns to numerical using one-hot encoding\n",
    "cat_cols = ['Gender', 'Married', 'Dependents', 'Education', 'Self_Employed', 'Property_Area']\n",
    "df = pd.get_dummies(df, columns=cat_cols)\n",
    "\n",
    "# Confirm the dataset structure after encoding\n",
    "df.head()\n"
   ]
  },
  {
   "cell_type": "code",
   "execution_count": null,
   "id": "f9fa4fc6",
   "metadata": {},
   "outputs": [],
   "source": [
    "\n",
    "# Step 7: Split the data into training and testing sets\n",
    "\n",
    "# Split the dataset into features (X) and target (y)\n",
    "X = df.drop('Loan_Status', axis=1)\n",
    "y = df['Loan_Status']\n",
    "\n",
    "# Split the data into training and testing sets\n",
    "X_train, X_test, y_train, y_test = train_test_split(X, y, test_size=0.2, random_state=42)\n",
    "\n",
    "# Confirm the shapes of the training and testing sets\n",
    "X_train.shape, X_test.shape, y_train.shape, y_test.shape\n"
   ]
  },
  {
   "cell_type": "code",
   "execution_count": null,
   "id": "822acb5e",
   "metadata": {},
   "outputs": [],
   "source": [
    "\n",
    "# Step 8: Scale the numerical features using StandardScaler\n",
    "\n",
    "scaler = StandardScaler()\n",
    "numerical_cols = ['ApplicantIncome', 'CoapplicantIncome', 'LoanAmount', 'Loan_Amount_Term', 'Credit_History']\n",
    "X_train[numerical_cols] = scaler.fit_transform(X_train[numerical_cols])\n",
    "X_test[numerical_cols] = scaler.transform(X_test[numerical_cols])\n",
    "\n",
    "# Confirm scaling by inspecting the first few rows of the training set\n",
    "X_train.head()\n"
   ]
  },
  {
   "cell_type": "code",
   "execution_count": null,
   "id": "314a94ac",
   "metadata": {},
   "outputs": [],
   "source": [
    "\n",
    "# Step 9: Train the model using SVC\n",
    "\n",
    "model = SVC(random_state=42)\n",
    "model.fit(X_train, y_train)\n",
    "\n",
    "# Confirm model training completion\n",
    "\"Model training completed!\"\n"
   ]
  },
  {
   "cell_type": "code",
   "execution_count": null,
   "id": "0e4cb1bd",
   "metadata": {},
   "outputs": [],
   "source": [
    "\n",
    "# Step 10: Make predictions on the test dataset\n",
    "\n",
    "# Make predictions\n",
    "y_pred = model.predict(X_test)\n",
    "\n",
    "# Convert predictions and testing set to a DataFrame\n",
    "X_test_df = pd.DataFrame(X_test, columns=X_test.columns)\n",
    "X_test_df['Loan_Status_Predicted'] = y_pred\n",
    "\n",
    "# Display the first few rows of the predictions\n",
    "X_test_df.head()\n"
   ]
  }
 ],
 "metadata": {
  "kernelspec": {
   "display_name": "Python 3",
   "language": "python",
   "name": "python3"
  },
  "language_info": {
   "name": "python",
   "version": "3.12.7"
  }
 },
 "nbformat": 4,
 "nbformat_minor": 5
}
